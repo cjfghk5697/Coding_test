{
 "cells": [
  {
   "cell_type": "markdown",
   "id": "8fc9a9cb",
   "metadata": {},
   "source": [
    "# Sequentuial Search\n"
   ]
  },
  {
   "cell_type": "code",
   "execution_count": null,
   "id": "7c6f18c6",
   "metadata": {},
   "outputs": [],
   "source": [
    "def sequential_search(n, target, array):\n",
    "    for i in range(n):\n",
    "        if array[i]==traget:\n",
    "            return i+1\n",
    "input_data=input().split()\n",
    "n= int(input_data[0])\n",
    "target=input_data[1]\n",
    "\n",
    "array=input().split()\n",
    "print(sequential_search(n,target,array))"
   ]
  },
  {
   "cell_type": "markdown",
   "id": "fd6f8582",
   "metadata": {},
   "source": [
    "# Binary Search"
   ]
  },
  {
   "cell_type": "code",
   "execution_count": null,
   "id": "bd28322b",
   "metadata": {},
   "outputs": [],
   "source": [
    "def binary_search(array, target, start, end):\n",
    "    if start>end:\n",
    "        return None\n",
    "    mid= (start+end)//2\n",
    "    if array[mid]==target:\n",
    "        return mid\n",
    "    elif array[mid]>target:\n",
    "        return binary_search(array,target,start,mid-1)\n",
    "    else:\n",
    "        return binary_search(array, target, mid+1, end)\n",
    "\n",
    "n, target=list(map(int, input().split()))\n",
    "array= list(map(int, input().split()))\n",
    "\n",
    "result=binary_search(array, target,0,n-1)\n",
    "if result==None:\n",
    "    print(\"원소 x\")\n",
    "else:\n",
    "    print(result+1)"
   ]
  },
  {
   "cell_type": "markdown",
   "id": "475a61a1",
   "metadata": {},
   "source": [
    "# Tip for python"
   ]
  },
  {
   "cell_type": "code",
   "execution_count": null,
   "id": "3c906fb6",
   "metadata": {},
   "outputs": [],
   "source": [
    "from bisect import bisect_left, bisect_right\n",
    "\n",
    "def count_by_range(array, left_value, right_value):\n",
    "    right_index=bisect_right(array,right_value)\n",
    "    left_index=bisect_left(array,left_value)\n",
    "    return right_index-left_index"
   ]
  },
  {
   "cell_type": "code",
   "execution_count": 4,
   "id": "07141e6a",
   "metadata": {},
   "outputs": [
    {
     "data": {
      "text/plain": [
       "3"
      ]
     },
     "execution_count": 4,
     "metadata": {},
     "output_type": "execute_result"
    }
   ],
   "source": [
    "from bisect import bisect_left, bisect_right\n",
    "\n",
    "array=[1,2,3]\n",
    "bisect_left(array,30)\n",
    "bisect_right(array,30)"
   ]
  },
  {
   "cell_type": "markdown",
   "id": "91e2f629",
   "metadata": {},
   "source": [
    "## 부품 찾기"
   ]
  },
  {
   "cell_type": "code",
   "execution_count": 11,
   "id": "a483a210",
   "metadata": {},
   "outputs": [
    {
     "name": "stdout",
     "output_type": "stream",
     "text": [
      "5\n",
      "8 3 7 9 2\n",
      "3\n",
      "5 7 9\n",
      "2 2\n",
      "no\n",
      "3 2\n",
      "yes\n",
      "5 4\n",
      "yes\n"
     ]
    }
   ],
   "source": [
    "from bisect import bisect_left, bisect_right\n",
    "\n",
    "n=int(input())\n",
    "array=list(map(int,input().split()))\n",
    "m=int(input())\n",
    "target=list(map(int, input().split()))\n",
    "array.sort()\n",
    "for i in target:\n",
    "    left=bisect_left(array,i)\n",
    "    right=bisect_right(array,i)\n",
    "    print(right,left)\n",
    "    if left==right:\n",
    "        print('no')\n",
    "    else:\n",
    "        print('yes')\n",
    "    "
   ]
  },
  {
   "cell_type": "markdown",
   "id": "d8639434",
   "metadata": {},
   "source": [
    "# 떡볶이 떡 만들기"
   ]
  },
  {
   "cell_type": "code",
   "execution_count": 29,
   "id": "058b53ee",
   "metadata": {},
   "outputs": [
    {
     "name": "stdout",
     "output_type": "stream",
     "text": [
      "4 6\n",
      "19 15 10 17\n",
      "15\n"
     ]
    }
   ],
   "source": [
    "n, m=list(map(int,input().split()))\n",
    "array=list(map(int,input().split()))\n",
    "\n",
    "start=0\n",
    "end=max(array)\n",
    "result=0\n",
    "while start<=end:\n",
    "    length=0\n",
    "    mid=(start+end)//2\n",
    "\n",
    "    for i in array:\n",
    "        if i>mid:\n",
    "            length+=i-mid\n",
    "\n",
    "    if m>length:\n",
    "        end=mid-1\n",
    "    else:\n",
    "        save=mid\n",
    "        start = mid +1\n",
    "    \n",
    "print(save)"
   ]
  }
 ],
 "metadata": {
  "kernelspec": {
   "display_name": "Python 3",
   "language": "python",
   "name": "python3"
  },
  "language_info": {
   "codemirror_mode": {
    "name": "ipython",
    "version": 3
   },
   "file_extension": ".py",
   "mimetype": "text/x-python",
   "name": "python",
   "nbconvert_exporter": "python",
   "pygments_lexer": "ipython3",
   "version": "3.6.5"
  }
 },
 "nbformat": 4,
 "nbformat_minor": 5
}
