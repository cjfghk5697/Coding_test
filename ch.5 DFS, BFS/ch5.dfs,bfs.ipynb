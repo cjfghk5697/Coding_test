{
 "cells": [
  {
   "cell_type": "markdown",
   "id": "30f06c95",
   "metadata": {},
   "source": [
    "# DFS/BFS\n",
    "    The code implement DFS/BFS."
   ]
  },
  {
   "cell_type": "code",
   "execution_count": 1,
   "id": "912611b1",
   "metadata": {},
   "outputs": [
    {
     "name": "stdout",
     "output_type": "stream",
     "text": [
      "1 2 7 6 8 3 4 5 "
     ]
    }
   ],
   "source": [
    "def dfs(graph, v, visited):\n",
    "    visited[v]=True\n",
    "    print(v,end=' ')\n",
    "    for i in graph[v]: \n",
    "        if not visited[i]:\n",
    "            dfs(graph, i, visited)\n",
    "graph =[\n",
    "    [],\n",
    "    [2,3,8],\n",
    "    [1,7],\n",
    "    [1,4,5],\n",
    "    [3,5],\n",
    "    [3,4],\n",
    "    [7],\n",
    "    [2,6,8],\n",
    "    [1,7]\n",
    "]\n",
    "\n",
    "visited=[False]*9\n",
    "\n",
    "dfs(graph, 1, visited)\n"
   ]
  },
  {
   "cell_type": "code",
   "execution_count": 7,
   "id": "468d550f",
   "metadata": {},
   "outputs": [
    {
     "name": "stdout",
     "output_type": "stream",
     "text": [
      "1 2 3 8 7 4 5 6 "
     ]
    }
   ],
   "source": [
    "from collections import deque\n",
    "\n",
    "def bfs(graph, start, visited):\n",
    "    #queue(deque library) \n",
    "    queue=deque([start])\n",
    "    visited[start]=True\n",
    "    while queue:\n",
    "        v=queue.popleft()\n",
    "        print(v, end=' ')\n",
    "        for i in graph[v]:\n",
    "            if not visited[i]:\n",
    "                queue.append(i)\n",
    "                visited[i]=True\n",
    "\n",
    "graph=[\n",
    "    [],\n",
    "    [2,3,8],\n",
    "    [1,7],\n",
    "    [1,4,5],\n",
    "    [3,5],\n",
    "    [3,4],\n",
    "    [7],\n",
    "    [2,6,8],\n",
    "    [1,7]\n",
    "]\n",
    "visited=[False]*9\n",
    "bfs(graph, 1, visited)"
   ]
  },
  {
   "cell_type": "markdown",
   "id": "c5af1a1f",
   "metadata": {},
   "source": [
    "# 음료수 얼려 먹기"
   ]
  },
  {
   "cell_type": "code",
   "execution_count": 6,
   "id": "5c34e00e",
   "metadata": {},
   "outputs": [
    {
     "name": "stdout",
     "output_type": "stream",
     "text": [
      "3 3\n",
      "001\n",
      "010\n",
      "101\n",
      "3\n"
     ]
    }
   ],
   "source": [
    "n,m=list(map(int,input().split()))\n",
    "\n",
    "graph=[]\n",
    "for i in range(n):\n",
    "    graph.append(list(map(int,input())))\n",
    "\n",
    "def dfs(x,y):\n",
    "    if x<=-1 or x>=n or y<=-1 or y>=m:\n",
    "        return False\n",
    "    if graph[x][y]==0:\n",
    "        graph[x][y]=1\n",
    "        dfs(x-1,y)\n",
    "        dfs(x,y-1)\n",
    "        dfs(x+1,y)\n",
    "        dfs(x,y+1)\n",
    "        return True\n",
    "    return False\n",
    "result=0\n",
    "for i in range(n):\n",
    "    for j in range(m):\n",
    "        if dfs(i,j)==True:\n",
    "            result+=1\n",
    "print(result)\n"
   ]
  },
  {
   "cell_type": "code",
   "execution_count": null,
   "id": "c79688ab",
   "metadata": {},
   "outputs": [],
   "source": [
    "from collections import deque\n",
    "n, m=list(map(int,input().split()))\n",
    "graph=[]\n",
    "for i in range(n):\n",
    "    graph.append(list(map(int,input())))\n",
    "#상하좌우\n",
    "\n",
    "dx=[-1,1,0,0]\n",
    "dy=[0,0,-1,1]\n",
    "\n",
    "count=1\n",
    "def bfs(start, visited):\n",
    "    #queue(deque library) \n",
    "    queue=deque([start])\n",
    "    visited[start]=1\n",
    "    while queue:\n",
    "        v=queue.popleft()\n",
    "        for i in range(4):\n",
    "            nx=x+dx[i]\n",
    "            ny=y+dy[i]\n",
    "            if nx<0 or ny<0 or nx>=n ny>=m:\n",
    "                continue\n",
    "            if graph[nx][ny]==0:\n",
    "                continue\n",
    "            if graph[nx][ny]==1:\n",
    "                graph[nx][ny]=graph[x][y]+1\n",
    "                queue.append((nx,ny))\n",
    "                \n",
    "    return graph[n-1][m-1]\n",
    "print(bfs(0,0))\n",
    "    "
   ]
  }
 ],
 "metadata": {
  "kernelspec": {
   "display_name": "Python 3",
   "language": "python",
   "name": "python3"
  },
  "language_info": {
   "codemirror_mode": {
    "name": "ipython",
    "version": 3
   },
   "file_extension": ".py",
   "mimetype": "text/x-python",
   "name": "python",
   "nbconvert_exporter": "python",
   "pygments_lexer": "ipython3",
   "version": "3.6.5"
  }
 },
 "nbformat": 4,
 "nbformat_minor": 5
}
