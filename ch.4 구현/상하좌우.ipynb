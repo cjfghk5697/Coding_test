{
 "cells": [
  {
   "cell_type": "markdown",
   "id": "f70a97e0",
   "metadata": {},
   "source": [
    "# My solution"
   ]
  },
  {
   "cell_type": "code",
   "execution_count": 6,
   "id": "35eb7bd9",
   "metadata": {},
   "outputs": [
    {
     "name": "stdout",
     "output_type": "stream",
     "text": [
      "5\n",
      "R R R U D D\n",
      "3 , 4\n"
     ]
    }
   ],
   "source": [
    "n = int(input())\n",
    "move=input().split()\n",
    "n_x=[0,1,0,-1]\n",
    "n_y=[-1,0,1,0]\n",
    "now_x=1\n",
    "now_y=1\n",
    "for k in move:\n",
    "    if k=='L':\n",
    "        if now_x!=1:\n",
    "            now_x+=n_x[3]                \n",
    "    elif k=='R':\n",
    "        if now_x!=n:\n",
    "            now_x+=n_x[1]\n",
    "    elif k=='U':\n",
    "        if now_y!=1:\n",
    "            now_y+=n_y[0]\n",
    "    elif k=='D':\n",
    "        if now_y!=n:\n",
    "            now_y+=n_y[2]\n",
    "print(now_y,\",\",now_x)"
   ]
  },
  {
   "cell_type": "markdown",
   "id": "f547f059",
   "metadata": {},
   "source": [
    "# Book solution"
   ]
  },
  {
   "cell_type": "code",
   "execution_count": null,
   "id": "fc440877",
   "metadata": {},
   "outputs": [],
   "source": [
    "n = int(input())\n",
    "x, y = 1,1\n",
    "plans = input().split()\n",
    "\n",
    "dx = [0,0,-1,1]\n",
    "dy=[-1,1,0,0]\n",
    "move_types=['L','R','U','D']\n",
    "for plan in plans:\n",
    "    for i in range(len(move_types)):\n",
    "        if plan==move_types[i]:\n",
    "            nx = x+dx[i]\n",
    "            ny = y+dy[i]\n",
    "    if nx< 1 or ny<1 or nx>n or ny>n:\n",
    "        continue\n",
    "    x, y= nx, ny\n",
    "print(x,y)"
   ]
  }
 ],
 "metadata": {
  "kernelspec": {
   "display_name": "Python 3",
   "language": "python",
   "name": "python3"
  },
  "language_info": {
   "codemirror_mode": {
    "name": "ipython",
    "version": 3
   },
   "file_extension": ".py",
   "mimetype": "text/x-python",
   "name": "python",
   "nbconvert_exporter": "python",
   "pygments_lexer": "ipython3",
   "version": "3.6.5"
  }
 },
 "nbformat": 4,
 "nbformat_minor": 5
}
