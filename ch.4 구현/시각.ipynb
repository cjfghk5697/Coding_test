{
 "cells": [
  {
   "cell_type": "markdown",
   "id": "f70a97e0",
   "metadata": {},
   "source": [
    "# My solution"
   ]
  },
  {
   "cell_type": "code",
   "execution_count": 8,
   "id": "35eb7bd9",
   "metadata": {},
   "outputs": [
    {
     "name": "stdout",
     "output_type": "stream",
     "text": [
      "5\n",
      "11475\n"
     ]
    }
   ],
   "source": [
    "N=int(input())\n",
    "count=0\n",
    "for h in range(N+1):\n",
    "    for m in range(60):\n",
    "        for s in range(60):\n",
    "            if '3' in str(h)+str(m)+str(s):\n",
    "                count+=1\n",
    "print(count)"
   ]
  },
  {
   "cell_type": "markdown",
   "id": "f547f059",
   "metadata": {},
   "source": [
    "# Book solution"
   ]
  },
  {
   "cell_type": "code",
   "execution_count": null,
   "id": "fc440877",
   "metadata": {},
   "outputs": [],
   "source": [
    "#same"
   ]
  }
 ],
 "metadata": {
  "kernelspec": {
   "display_name": "Python 3",
   "language": "python",
   "name": "python3"
  },
  "language_info": {
   "codemirror_mode": {
    "name": "ipython",
    "version": 3
   },
   "file_extension": ".py",
   "mimetype": "text/x-python",
   "name": "python",
   "nbconvert_exporter": "python",
   "pygments_lexer": "ipython3",
   "version": "3.6.5"
  }
 },
 "nbformat": 4,
 "nbformat_minor": 5
}
