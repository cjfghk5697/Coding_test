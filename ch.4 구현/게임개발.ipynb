{
 "cells": [
  {
   "cell_type": "markdown",
   "id": "f70a97e0",
   "metadata": {},
   "source": [
    "# My solution"
   ]
  },
  {
   "cell_type": "code",
   "execution_count": 8,
   "id": "35eb7bd9",
   "metadata": {},
   "outputs": [
    {
     "name": "stdout",
     "output_type": "stream",
     "text": [
      "5\n",
      "11475\n"
     ]
    }
   ],
   "source": [
    "loc=input()\n",
    "row=int(loc[1])\n",
    "column = int(ord(loc[0]))-int(ord('a'))+1\n",
    "#경우의 수를 다 넣는다.\n",
    "steps = [(-2,-1),(-1,-2),(1,-2),(2,-1),(2,1),(1,2),(-1,2),(-2,1)]\n",
    "result = 0\n",
    "for step in steps:\n",
    "    next_row=row+step[0]\n",
    "    next_column= column+step[1]\n",
    "    if next_row>=1 and next_row <=8 and next_column>=1 and next_column<=8:\n",
    "        result+=1\n",
    "print(result)"
   ]
  },
  {
   "cell_type": "markdown",
   "id": "f547f059",
   "metadata": {},
   "source": [
    "# Book solution"
   ]
  },
  {
   "cell_type": "code",
   "execution_count": null,
   "id": "fc440877",
   "metadata": {},
   "outputs": [],
   "source": [
    "#same"
   ]
  }
 ],
 "metadata": {
  "kernelspec": {
   "display_name": "Python 3",
   "language": "python",
   "name": "python3"
  },
  "language_info": {
   "codemirror_mode": {
    "name": "ipython",
    "version": 3
   },
   "file_extension": ".py",
   "mimetype": "text/x-python",
   "name": "python",
   "nbconvert_exporter": "python",
   "pygments_lexer": "ipython3",
   "version": "3.6.5"
  }
 },
 "nbformat": 4,
 "nbformat_minor": 5
}
