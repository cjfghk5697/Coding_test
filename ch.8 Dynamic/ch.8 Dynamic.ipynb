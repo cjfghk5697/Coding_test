{
 "cells": [
  {
   "cell_type": "markdown",
   "id": "f8d00607",
   "metadata": {},
   "source": [
    "# Dynamic Programming"
   ]
  },
  {
   "cell_type": "markdown",
   "id": "47d68bc6",
   "metadata": {},
   "source": [
    "# Fibonacci Function"
   ]
  },
  {
   "cell_type": "code",
   "execution_count": null,
   "id": "3ce779ab",
   "metadata": {},
   "outputs": [],
   "source": [
    "#base function\n",
    "def fibo(x):\n",
    "    if x==1 or x==2:\n",
    "        return 1\n",
    "    return fibo(x-1)+fibo(x-2)\n",
    "\n",
    "print(fibo(4))"
   ]
  },
  {
   "cell_type": "code",
   "execution_count": null,
   "id": "7b1813d2",
   "metadata": {},
   "outputs": [],
   "source": [
    "#recursive function(Top-Down is call the Small problem for solving Big problem)\n",
    "d=[0]*100\n",
    "\n",
    "def fibo(x):\n",
    "    if x==1 or x==2:\n",
    "        return 1\n",
    "    if d[x] !=0:\n",
    "        return d[x]\n",
    "    d[x]=fibo(x-1)+fibo(x-2)\n",
    "    return d[x]\n",
    "\n",
    "print(fibo[99])"
   ]
  },
  {
   "cell_type": "code",
   "execution_count": null,
   "id": "eacc7fab",
   "metadata": {},
   "outputs": [],
   "source": [
    "# Repetitive function(Bottom-Up is stpe by step to solve small problem )\n",
    "d=[0] *100\n",
    "d[1]=1\n",
    "d[2]=1\n",
    "n=99\n",
    "\n",
    "for i in range(3,n+1):\n",
    "    d[i]=d[i-1]+d[i-2]\n",
    "print(d[n])\n"
   ]
  },
  {
   "cell_type": "markdown",
   "id": "e92287d8",
   "metadata": {},
   "source": [
    "# To make 1"
   ]
  },
  {
   "cell_type": "code",
   "execution_count": null,
   "id": "bf6de241",
   "metadata": {},
   "outputs": [],
   "source": [
    "num=int(input())\n",
    "d=[0]*30001\n",
    "for i in range(2,num+1):\n",
    "    d[i]=d[i-1]+1\n",
    "    if i%2==0:\n",
    "        d[i]=min(d[i],d[i//2]+1)\n",
    "    if i%3==0:\n",
    "        d[i]=min(d[i],d[i//3]+1)\n",
    "    if i%5==0:\n",
    "        d[i]=min(d[i],d[i//5]+1)\n",
    "print(d[num])"
   ]
  },
  {
   "cell_type": "markdown",
   "id": "ac86eb9b",
   "metadata": {},
   "source": [
    "# Soldier Ant"
   ]
  },
  {
   "cell_type": "code",
   "execution_count": null,
   "id": "2fd711e2",
   "metadata": {},
   "outputs": [],
   "source": [
    "n=int(input())\n",
    "array=list(map(int,input().split()))\n",
    "d=[0]*100\n",
    "\n",
    "d[0]=array[0]\n",
    "d[1]=max(array[0],array[1])\n",
    "for i in range(2,n):\n",
    "    d[i]=max(d[i-1],d[i-2]+array[i])\n",
    "    \n",
    "print(d[n-1]) "
   ]
  },
  {
   "cell_type": "markdown",
   "id": "71340e8e",
   "metadata": {},
   "source": [
    "# Construct Cell"
   ]
  },
  {
   "cell_type": "code",
   "execution_count": null,
   "id": "7aef88d1",
   "metadata": {},
   "outputs": [],
   "source": [
    "n=int(input())"
   ]
  },
  {
   "cell_type": "code",
   "execution_count": null,
   "id": "3fcd1ebd",
   "metadata": {},
   "outputs": [],
   "source": []
  }
 ],
 "metadata": {
  "kernelspec": {
   "display_name": "Python 3",
   "language": "python",
   "name": "python3"
  },
  "language_info": {
   "codemirror_mode": {
    "name": "ipython",
    "version": 3
   },
   "file_extension": ".py",
   "mimetype": "text/x-python",
   "name": "python",
   "nbconvert_exporter": "python",
   "pygments_lexer": "ipython3",
   "version": "3.6.5"
  }
 },
 "nbformat": 4,
 "nbformat_minor": 5
}
