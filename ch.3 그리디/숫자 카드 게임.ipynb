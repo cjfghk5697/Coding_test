{
 "cells": [
  {
   "cell_type": "markdown",
   "id": "588aa99a",
   "metadata": {},
   "source": [
    "# My solution"
   ]
  },
  {
   "cell_type": "code",
   "execution_count": null,
   "id": "9c207b08",
   "metadata": {},
   "outputs": [],
   "source": [
    "n,m = map(int,input().split())\n",
    "\n",
    "arr=[[0] * m for i in range(n)]\n",
    "result=[0 for i in range(n)]\n",
    "\n",
    "\n",
    "for i in range(n):\n",
    "    arr[i]=list(map(int,input().split()))\n",
    "    arr[i].sort()\n",
    "    result[i]=arr[i][0]\n",
    "result.sort()\n",
    "print(result[n-1])"
   ]
  },
  {
   "cell_type": "markdown",
   "id": "ad725534",
   "metadata": {},
   "source": [
    "# Book solution"
   ]
  },
  {
   "cell_type": "code",
   "execution_count": null,
   "id": "4abbf02a",
   "metadata": {},
   "outputs": [],
   "source": [
    "n, m = map(int, input().split())\n",
    "result=0\n",
    "for i in ragne(n):\n",
    "    data = list(map(int, input().split()))\n",
    "    # find min in data\n",
    "    min_value= min(data)\n",
    "    # find max in min_value\n",
    "    result = max(result, min_value)\n",
    "print(result)\n",
    "    "
   ]
  }
 ],
 "metadata": {
  "kernelspec": {
   "display_name": "Python 3",
   "language": "python",
   "name": "python3"
  },
  "language_info": {
   "codemirror_mode": {
    "name": "ipython",
    "version": 3
   },
   "file_extension": ".py",
   "mimetype": "text/x-python",
   "name": "python",
   "nbconvert_exporter": "python",
   "pygments_lexer": "ipython3",
   "version": "3.6.5"
  }
 },
 "nbformat": 4,
 "nbformat_minor": 5
}
