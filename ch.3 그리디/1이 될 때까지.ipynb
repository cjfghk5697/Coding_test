{
 "cells": [
  {
   "cell_type": "markdown",
   "id": "6c943a60",
   "metadata": {},
   "source": [
    "# My solution"
   ]
  },
  {
   "cell_type": "code",
   "execution_count": 12,
   "id": "94c4e619",
   "metadata": {},
   "outputs": [
    {
     "name": "stdout",
     "output_type": "stream",
     "text": [
      "27 3\n",
      "3\n"
     ]
    }
   ],
   "source": [
    "n,k = map(int,input().split())\n",
    "count=0\n",
    "while True:\n",
    "    n=n//k\n",
    "    count+=1\n",
    "    \n",
    "    if n==1:\n",
    "        print(count)\n",
    "        break\n",
    "    elif n<k:\n",
    "        count+=n-1\n",
    "        print(count)\n",
    "        break\n"
   ]
  },
  {
   "cell_type": "markdown",
   "id": "c117e7b8",
   "metadata": {},
   "source": [
    "# Book solution"
   ]
  },
  {
   "cell_type": "code",
   "execution_count": null,
   "id": "b15243f6",
   "metadata": {},
   "outputs": [],
   "source": [
    "n, k = map(int, input().split())\n",
    "result=0\n",
    "while True:\n",
    "    #(N==k로 나누어떨어지는 수)가 될 때까지 1씩 빼기\n",
    "    target = (n//k)*k\n",
    "    result+=(n-taget)\n",
    "    if n<k:\n",
    "        break\n",
    "    result+=1\n",
    "    n//=k\n",
    "result+=(n-1)\n",
    "print(resel)"
   ]
  }
 ],
 "metadata": {
  "kernelspec": {
   "display_name": "Python 3",
   "language": "python",
   "name": "python3"
  },
  "language_info": {
   "codemirror_mode": {
    "name": "ipython",
    "version": 3
   },
   "file_extension": ".py",
   "mimetype": "text/x-python",
   "name": "python",
   "nbconvert_exporter": "python",
   "pygments_lexer": "ipython3",
   "version": "3.6.5"
  }
 },
 "nbformat": 4,
 "nbformat_minor": 5
}
