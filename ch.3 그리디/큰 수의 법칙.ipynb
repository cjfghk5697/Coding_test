{
 "cells": [
  {
   "cell_type": "code",
   "execution_count": 5,
   "id": "904f99de",
   "metadata": {},
   "outputs": [
    {
     "name": "stdout",
     "output_type": "stream",
     "text": [
      "5 8 3\n",
      "2 4 5 4 6\n",
      "46\n"
     ]
    }
   ],
   "source": [
    "n ,m ,k = map(int, input().split())\n",
    "\n",
    "data = list(map(int,input().split()))\n",
    "\n",
    "data.sort()\n",
    "\n",
    "Big = data[n-1]\n",
    "Big2 = data[n-2]\n",
    "\n",
    "result=0\n",
    "\n",
    "while True:\n",
    "    for i in range(k):\n",
    "        if m==0:\n",
    "            break\n",
    "        result+=Big\n",
    "        m-=1\n",
    "    if m==0:\n",
    "        break\n",
    "    result+=Big2\n",
    "    m-=1\n",
    "print(result)"
   ]
  },
  {
   "cell_type": "code",
   "execution_count": null,
   "id": "1546f2ce",
   "metadata": {},
   "outputs": [],
   "source": []
  }
 ],
 "metadata": {
  "kernelspec": {
   "display_name": "Python 3",
   "language": "python",
   "name": "python3"
  },
  "language_info": {
   "codemirror_mode": {
    "name": "ipython",
    "version": 3
   },
   "file_extension": ".py",
   "mimetype": "text/x-python",
   "name": "python",
   "nbconvert_exporter": "python",
   "pygments_lexer": "ipython3",
   "version": "3.6.5"
  }
 },
 "nbformat": 4,
 "nbformat_minor": 5
}
